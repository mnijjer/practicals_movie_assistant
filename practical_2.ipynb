{
 "cells": [
  {
   "cell_type": "code",
   "execution_count": null,
   "metadata": {},
   "outputs": [
    {
     "ename": "",
     "evalue": "",
     "output_type": "error",
     "traceback": [
      "\u001b[1;31mFailed to start the Kernel. \n",
      "\u001b[1;31mspawn /conda ENOENT. \n",
      "\u001b[1;31mView Jupyter <a href='command:jupyter.viewOutput'>log</a> for further details."
     ]
    }
   ],
   "source": [
    "print (\"hello world\")"
   ]
  },
  {
   "cell_type": "code",
   "execution_count": null,
   "metadata": {},
   "outputs": [
    {
     "ename": "",
     "evalue": "",
     "output_type": "error",
     "traceback": [
      "\u001b[1;31mFailed to start the Kernel. \n",
      "\u001b[1;31mspawn /conda ENOENT. \n",
      "\u001b[1;31mView Jupyter <a href='command:jupyter.viewOutput'>log</a> for further details."
     ]
    }
   ],
   "source": [
    "print (\"hello world\")\n"
   ]
  },
  {
   "cell_type": "markdown",
   "metadata": {},
   "source": []
  },
  {
   "cell_type": "code",
   "execution_count": null,
   "metadata": {},
   "outputs": [
    {
     "ename": "",
     "evalue": "",
     "output_type": "error",
     "traceback": [
      "\u001b[1;31mJupyter cannot be started. Error attempting to locate Jupyter: Running cells with 'hangman' requires notebook package.\n",
      "\u001b[1;31mRun the following command to install 'jupyter and notebook' into the Python environment. \n",
      "\u001b[1;31mCommand: 'python -m pip install jupyter notebook -U\n",
      "\u001b[1;31mor\n",
      "\u001b[1;31mconda install jupyter notebook -U'\n",
      "\u001b[1;31mClick <a href='https://aka.ms/installJupyterForVSCode'>here</a> for more info."
     ]
    }
   ],
   "source": [
    "print (\"hello world\")\n"
   ]
  },
  {
   "cell_type": "code",
   "execution_count": null,
   "metadata": {},
   "outputs": [
    {
     "ename": "",
     "evalue": "",
     "output_type": "error",
     "traceback": [
      "\u001b[1;31mJupyter cannot be started. Error attempting to locate Jupyter: Running cells with 'hangman' requires notebook package.\n",
      "\u001b[1;31mRun the following command to install 'jupyter and notebook' into the Python environment. \n",
      "\u001b[1;31mCommand: 'python -m pip install jupyter notebook -U\n",
      "\u001b[1;31mor\n",
      "\u001b[1;31mconda install jupyter notebook -U'\n",
      "\u001b[1;31mClick <a href='https://aka.ms/installJupyterForVSCode'>here</a> for more info."
     ]
    }
   ],
   "source": [
    "print (\"hello world\")"
   ]
  },
  {
   "cell_type": "code",
   "execution_count": null,
   "metadata": {},
   "outputs": [
    {
     "ename": "",
     "evalue": "",
     "output_type": "error",
     "traceback": [
      "\u001b[1;31mJupyter cannot be started. Error attempting to locate Jupyter: Running cells with 'hangman' requires notebook package.\n",
      "\u001b[1;31mRun the following command to install 'jupyter and notebook' into the Python environment. \n",
      "\u001b[1;31mCommand: 'python -m pip install jupyter notebook -U\n",
      "\u001b[1;31mor\n",
      "\u001b[1;31mconda install jupyter notebook -U'\n",
      "\u001b[1;31mClick <a href='https://aka.ms/installJupyterForVSCode'>here</a> for more info."
     ]
    }
   ],
   "source": [
    "print(\"hello world\")"
   ]
  },
  {
   "cell_type": "code",
   "execution_count": null,
   "metadata": {},
   "outputs": [
    {
     "ename": "",
     "evalue": "",
     "output_type": "error",
     "traceback": [
      "\u001b[1;31mJupyter cannot be started. Error attempting to locate Jupyter: Running cells with 'hangman' requires notebook package.\n",
      "\u001b[1;31mRun the following command to install 'jupyter and notebook' into the Python environment. \n",
      "\u001b[1;31mCommand: 'python -m pip install jupyter notebook -U\n",
      "\u001b[1;31mor\n",
      "\u001b[1;31mconda install jupyter notebook -U'\n",
      "\u001b[1;31mClick <a href='https://aka.ms/installJupyterForVSCode'>here</a> for more info."
     ]
    }
   ],
   "source": [
    "print('hello world')"
   ]
  },
  {
   "cell_type": "code",
   "execution_count": 1,
   "metadata": {},
   "outputs": [
    {
     "name": "stdout",
     "output_type": "stream",
     "text": [
      "hello world\n"
     ]
    }
   ],
   "source": [
    "print (\"hello world\")"
   ]
  },
  {
   "cell_type": "code",
   "execution_count": 2,
   "metadata": {},
   "outputs": [
    {
     "name": "stdout",
     "output_type": "stream",
     "text": [
      "hello world\n"
     ]
    }
   ],
   "source": [
    "print (\"hello world\")"
   ]
  },
  {
   "cell_type": "code",
   "execution_count": 3,
   "metadata": {},
   "outputs": [
    {
     "name": "stdout",
     "output_type": "stream",
     "text": [
      "hello\n"
     ]
    }
   ],
   "source": [
    "print ('hello')"
   ]
  },
  {
   "cell_type": "code",
   "execution_count": 1,
   "metadata": {},
   "outputs": [
    {
     "name": "stdout",
     "output_type": "stream",
     "text": [
      "this print statement was created in Python\n"
     ]
    }
   ],
   "source": [
    "print (\"this print statement was created in Python\")"
   ]
  },
  {
   "cell_type": "code",
   "execution_count": 2,
   "metadata": {},
   "outputs": [
    {
     "name": "stdout",
     "output_type": "stream",
     "text": [
      "age, 23\n"
     ]
    }
   ],
   "source": [
    "print (\"age, 23\")"
   ]
  },
  {
   "cell_type": "code",
   "execution_count": 3,
   "metadata": {},
   "outputs": [
    {
     "name": "stdout",
     "output_type": "stream",
     "text": [
      "7\n"
     ]
    }
   ],
   "source": [
    "x = 3 + 4 \n",
    "print (x)\n"
   ]
  },
  {
   "cell_type": "code",
   "execution_count": 4,
   "metadata": {},
   "outputs": [
    {
     "name": "stdout",
     "output_type": "stream",
     "text": [
      "8\n",
      "3.0\n"
     ]
    }
   ],
   "source": [
    "x = 4 * 2\n",
    "y = 15 / 5\n",
    "print (x)\n",
    "print (y)"
   ]
  },
  {
   "cell_type": "code",
   "execution_count": 5,
   "metadata": {},
   "outputs": [
    {
     "ename": "NameError",
     "evalue": "name 'manisha' is not defined",
     "output_type": "error",
     "traceback": [
      "\u001b[0;31m---------------------------------------------------------------------------\u001b[0m",
      "\u001b[0;31mNameError\u001b[0m                                 Traceback (most recent call last)",
      "Cell \u001b[0;32mIn[5], line 1\u001b[0m\n\u001b[0;32m----> 1\u001b[0m word \u001b[39m=\u001b[39m manisha \n\u001b[1;32m      2\u001b[0m word [\u001b[39m1\u001b[39m:\u001b[39m5\u001b[39m]\n",
      "\u001b[0;31mNameError\u001b[0m: name 'manisha' is not defined"
     ]
    }
   ],
   "source": [
    "word = manisha \n",
    "word [1:5]"
   ]
  },
  {
   "cell_type": "code",
   "execution_count": 6,
   "metadata": {},
   "outputs": [],
   "source": [
    "word = 'manisha'\n"
   ]
  },
  {
   "cell_type": "code",
   "execution_count": 7,
   "metadata": {},
   "outputs": [
    {
     "data": {
      "text/plain": [
       "'m'"
      ]
     },
     "execution_count": 7,
     "metadata": {},
     "output_type": "execute_result"
    }
   ],
   "source": [
    "word[0]"
   ]
  },
  {
   "cell_type": "code",
   "execution_count": 8,
   "metadata": {},
   "outputs": [
    {
     "data": {
      "text/plain": [
       "'anis'"
      ]
     },
     "execution_count": 8,
     "metadata": {},
     "output_type": "execute_result"
    }
   ],
   "source": [
    "word[1:5]"
   ]
  },
  {
   "cell_type": "code",
   "execution_count": 9,
   "metadata": {},
   "outputs": [
    {
     "data": {
      "text/plain": [
       "'sha'"
      ]
     },
     "execution_count": 9,
     "metadata": {},
     "output_type": "execute_result"
    }
   ],
   "source": [
    "word[4:7]"
   ]
  },
  {
   "cell_type": "code",
   "execution_count": 10,
   "metadata": {},
   "outputs": [
    {
     "data": {
      "text/plain": [
       "''"
      ]
     },
     "execution_count": 10,
     "metadata": {},
     "output_type": "execute_result"
    }
   ],
   "source": [
    "word[-1:0]"
   ]
  },
  {
   "cell_type": "code",
   "execution_count": 11,
   "metadata": {},
   "outputs": [
    {
     "data": {
      "text/plain": [
       "'a'"
      ]
     },
     "execution_count": 11,
     "metadata": {},
     "output_type": "execute_result"
    }
   ],
   "source": [
    "word[-1]"
   ]
  },
  {
   "cell_type": "code",
   "execution_count": 12,
   "metadata": {},
   "outputs": [
    {
     "data": {
      "text/plain": [
       "'mani'"
      ]
     },
     "execution_count": 12,
     "metadata": {},
     "output_type": "execute_result"
    }
   ],
   "source": [
    "word[:4]"
   ]
  },
  {
   "cell_type": "code",
   "execution_count": 13,
   "metadata": {},
   "outputs": [
    {
     "data": {
      "text/plain": [
       "'sha'"
      ]
     },
     "execution_count": 13,
     "metadata": {},
     "output_type": "execute_result"
    }
   ],
   "source": [
    "word[4:]"
   ]
  },
  {
   "cell_type": "code",
   "execution_count": 14,
   "metadata": {},
   "outputs": [
    {
     "name": "stdout",
     "output_type": "stream",
     "text": [
      "that's it\n"
     ]
    }
   ],
   "source": [
    "print ('that\\'s it')"
   ]
  },
  {
   "cell_type": "code",
   "execution_count": 15,
   "metadata": {},
   "outputs": [
    {
     "name": "stdout",
     "output_type": "stream",
     "text": [
      "that's it\n"
     ]
    }
   ],
   "source": [
    "print (\"that's it\")"
   ]
  },
  {
   "cell_type": "code",
   "execution_count": 16,
   "metadata": {},
   "outputs": [],
   "source": [
    "greeting = 'hi'"
   ]
  },
  {
   "cell_type": "code",
   "execution_count": 17,
   "metadata": {},
   "outputs": [
    {
     "ename": "AttributeError",
     "evalue": "'str' object has no attribute 'capitalise'",
     "output_type": "error",
     "traceback": [
      "\u001b[0;31m---------------------------------------------------------------------------\u001b[0m",
      "\u001b[0;31mAttributeError\u001b[0m                            Traceback (most recent call last)",
      "Cell \u001b[0;32mIn[17], line 1\u001b[0m\n\u001b[0;32m----> 1\u001b[0m \u001b[39mprint\u001b[39m (greeting\u001b[39m.\u001b[39;49mcapitalise)\n",
      "\u001b[0;31mAttributeError\u001b[0m: 'str' object has no attribute 'capitalise'"
     ]
    }
   ],
   "source": [
    "print (greeting.capitalise)"
   ]
  },
  {
   "cell_type": "code",
   "execution_count": 22,
   "metadata": {},
   "outputs": [
    {
     "name": "stdout",
     "output_type": "stream",
     "text": [
      "<built-in method capitalize of str object at 0x100fb27f0>\n",
      "Hi\n",
      "hi\n"
     ]
    }
   ],
   "source": [
    "greeting = 'hi'\n",
    "\n",
    "print (greeting.capitalize)\n",
    "\n",
    "print (greeting.capitalize())\n",
    "\n",
    "print (greeting.lower())"
   ]
  },
  {
   "cell_type": "code",
   "execution_count": 28,
   "metadata": {},
   "outputs": [
    {
     "name": "stdout",
     "output_type": "stream",
     "text": [
      "29.2\n",
      "-20.8\n",
      "105.0\n",
      "0.168\n",
      "29.2\n"
     ]
    }
   ],
   "source": [
    "a = 4.2\n",
    "b = 25\n",
    "\n",
    "print (a + b)\n",
    "print (a - b)\n",
    "print (a * b)\n",
    "print (a / b)\n",
    "print (a + b)"
   ]
  },
  {
   "cell_type": "code",
   "execution_count": 29,
   "metadata": {},
   "outputs": [
    {
     "data": {
      "text/plain": [
       "float"
      ]
     },
     "execution_count": 29,
     "metadata": {},
     "output_type": "execute_result"
    }
   ],
   "source": [
    "type (3.4)"
   ]
  },
  {
   "cell_type": "code",
   "execution_count": 30,
   "metadata": {},
   "outputs": [
    {
     "data": {
      "text/plain": [
       "int"
      ]
     },
     "execution_count": 30,
     "metadata": {},
     "output_type": "execute_result"
    }
   ],
   "source": [
    "type (5)"
   ]
  },
  {
   "cell_type": "code",
   "execution_count": 31,
   "metadata": {},
   "outputs": [
    {
     "name": "stdout",
     "output_type": "stream",
     "text": [
      "690.75\n"
     ]
    }
   ],
   "source": [
    "print ((((100 + 44) - 75) * 10) + 0.75)"
   ]
  },
  {
   "cell_type": "code",
   "execution_count": 34,
   "metadata": {},
   "outputs": [
    {
     "name": "stderr",
     "output_type": "stream",
     "text": [
      "<>:1: SyntaxWarning: 'int' object is not callable; perhaps you missed a comma?\n",
      "<>:3: SyntaxWarning: 'int' object is not callable; perhaps you missed a comma?\n",
      "<>:5: SyntaxWarning: 'int' object is not callable; perhaps you missed a comma?\n",
      "<>:1: SyntaxWarning: 'int' object is not callable; perhaps you missed a comma?\n",
      "<>:3: SyntaxWarning: 'int' object is not callable; perhaps you missed a comma?\n",
      "<>:5: SyntaxWarning: 'int' object is not callable; perhaps you missed a comma?\n",
      "/var/folders/sw/txvbwt_s647d9p5g7rzlwycr0000gn/T/ipykernel_91171/63636510.py:1: SyntaxWarning: 'int' object is not callable; perhaps you missed a comma?\n",
      "  print (1 + 2 * 3 - 4 / 6 (6 + 7) * 8 ** 9)\n"
     ]
    },
    {
     "ename": "TypeError",
     "evalue": "'int' object is not callable",
     "output_type": "error",
     "traceback": [
      "\u001b[0;31m---------------------------------------------------------------------------\u001b[0m",
      "\u001b[0;31mTypeError\u001b[0m                                 Traceback (most recent call last)",
      "Cell \u001b[0;32mIn[34], line 1\u001b[0m\n\u001b[0;32m----> 1\u001b[0m \u001b[39mprint\u001b[39m (\u001b[39m1\u001b[39m \u001b[39m+\u001b[39m \u001b[39m2\u001b[39m \u001b[39m*\u001b[39m \u001b[39m3\u001b[39m \u001b[39m-\u001b[39m \u001b[39m4\u001b[39m \u001b[39m/\u001b[39m \u001b[39m6\u001b[39;49m (\u001b[39m6\u001b[39;49m \u001b[39m+\u001b[39;49m \u001b[39m7\u001b[39;49m) \u001b[39m*\u001b[39m \u001b[39m8\u001b[39m \u001b[39m*\u001b[39m\u001b[39m*\u001b[39m \u001b[39m9\u001b[39m)\n\u001b[1;32m      3\u001b[0m (\u001b[39m1\u001b[39m \u001b[39m+\u001b[39m \u001b[39m2\u001b[39m \u001b[39m*\u001b[39m \u001b[39m3\u001b[39m \u001b[39m-\u001b[39m \u001b[39m4\u001b[39m \u001b[39m/\u001b[39m \u001b[39m6\u001b[39m (\u001b[39m6\u001b[39m \u001b[39m+\u001b[39m \u001b[39m7\u001b[39m) \u001b[39m*\u001b[39m \u001b[39m8\u001b[39m \u001b[39m*\u001b[39m\u001b[39m*\u001b[39m \u001b[39m9\u001b[39m)\n\u001b[1;32m      5\u001b[0m \u001b[39msum\u001b[39m ((\u001b[39m1\u001b[39m \u001b[39m+\u001b[39m \u001b[39m2\u001b[39m \u001b[39m*\u001b[39m \u001b[39m3\u001b[39m \u001b[39m-\u001b[39m \u001b[39m4\u001b[39m \u001b[39m/\u001b[39m \u001b[39m6\u001b[39m (\u001b[39m6\u001b[39m \u001b[39m+\u001b[39m \u001b[39m7\u001b[39m) \u001b[39m*\u001b[39m \u001b[39m8\u001b[39m \u001b[39m*\u001b[39m\u001b[39m*\u001b[39m \u001b[39m9\u001b[39m))\n",
      "\u001b[0;31mTypeError\u001b[0m: 'int' object is not callable"
     ]
    }
   ],
   "source": [
    "print (1 + 2 * 3 - 4 / 6 (6 + 7) * 8 ** 9)\n",
    "\n",
    "(1 + 2 * 3 - 4 / 6 (6 + 7) * 8 ** 9)\n",
    "\n",
    "sum ((1 + 2 * 3 - 4 / 6 (6 + 7) * 8 ** 9))\n"
   ]
  },
  {
   "cell_type": "code",
   "execution_count": 35,
   "metadata": {},
   "outputs": [
    {
     "name": "stderr",
     "output_type": "stream",
     "text": [
      "<>:1: SyntaxWarning: 'int' object is not callable; perhaps you missed a comma?\n",
      "<>:1: SyntaxWarning: 'int' object is not callable; perhaps you missed a comma?\n",
      "/var/folders/sw/txvbwt_s647d9p5g7rzlwycr0000gn/T/ipykernel_91171/825525942.py:1: SyntaxWarning: 'int' object is not callable; perhaps you missed a comma?\n",
      "  sum ((1 + 2 * 3 - 4 / 6 (6 + 7) * 8 ** 9))\n"
     ]
    },
    {
     "ename": "TypeError",
     "evalue": "'int' object is not callable",
     "output_type": "error",
     "traceback": [
      "\u001b[0;31m---------------------------------------------------------------------------\u001b[0m",
      "\u001b[0;31mTypeError\u001b[0m                                 Traceback (most recent call last)",
      "Cell \u001b[0;32mIn[35], line 1\u001b[0m\n\u001b[0;32m----> 1\u001b[0m \u001b[39msum\u001b[39m ((\u001b[39m1\u001b[39m \u001b[39m+\u001b[39m \u001b[39m2\u001b[39m \u001b[39m*\u001b[39m \u001b[39m3\u001b[39m \u001b[39m-\u001b[39m \u001b[39m4\u001b[39m \u001b[39m/\u001b[39m \u001b[39m6\u001b[39;49m (\u001b[39m6\u001b[39;49m \u001b[39m+\u001b[39;49m \u001b[39m7\u001b[39;49m) \u001b[39m*\u001b[39m \u001b[39m8\u001b[39m \u001b[39m*\u001b[39m\u001b[39m*\u001b[39m \u001b[39m9\u001b[39m))\n",
      "\u001b[0;31mTypeError\u001b[0m: 'int' object is not callable"
     ]
    }
   ],
   "source": [
    "sum ((1 + 2 * 3 - 4 / 6 (6 + 7) * 8 ** 9))"
   ]
  },
  {
   "cell_type": "code",
   "execution_count": 107,
   "metadata": {},
   "outputs": [
    {
     "name": "stdout",
     "output_type": "stream",
     "text": [
      "-1163220302.3333333\n"
     ]
    }
   ],
   "source": [
    "\n",
    "print(1 + 2 * 3 - 4 / 6 * (6 + 7) * 8 ** 9)"
   ]
  },
  {
   "cell_type": "code",
   "execution_count": 38,
   "metadata": {},
   "outputs": [
    {
     "name": "stdout",
     "output_type": "stream",
     "text": [
      "11\n",
      "24\n"
     ]
    }
   ],
   "source": [
    "num1 = 8\n",
    "num2 = 3\n",
    "\n",
    "print (num1 + num2)\n",
    "\n",
    "print (num1 * num2)"
   ]
  },
  {
   "cell_type": "code",
   "execution_count": 45,
   "metadata": {},
   "outputs": [
    {
     "name": "stdout",
     "output_type": "stream",
     "text": [
      "23 57 98.3\n"
     ]
    }
   ],
   "source": [
    "num = 23\n",
    "text_num = \"57\"\n",
    "decimal_num = 98.3\n",
    "\n",
    "print (num, text_num, decimal_num)\n"
   ]
  },
  {
   "cell_type": "code",
   "execution_count": 46,
   "metadata": {},
   "outputs": [
    {
     "name": "stdout",
     "output_type": "stream",
     "text": [
      "these are even numbers 2 12 32 90 100 4\n"
     ]
    }
   ],
   "source": [
    "num1 = 2\n",
    "num2 = 12\n",
    "num3 = 25\n",
    "num4 = 67\n",
    "num5 = 33\n",
    "num6 = 32\n",
    "num7 = 90\n",
    "num8 = 45\n",
    "num9 = 100\n",
    "num10 = 4\n",
    "\n",
    "print (\"these are even numbers\", num1, num2, num6, num7, num9, num10)"
   ]
  },
  {
   "cell_type": "code",
   "execution_count": 50,
   "metadata": {},
   "outputs": [
    {
     "name": "stdout",
     "output_type": "stream",
     "text": [
      "Pneumonoultramicroscopicsilicovolcanoconiosis\n"
     ]
    }
   ],
   "source": [
    "#string example \n",
    "\n",
    "long_word = \"Pneumonoultramicroscopicsilicovolcanoconiosis\"\n",
    "print (long_word)\n",
    "\n",
    "long_word[0]\n",
    "\n",
    "first_c = 'P'\n",
    "\n",
    "long_word[-1]\n",
    "\n",
    "last_c = 's'\n"
   ]
  },
  {
   "cell_type": "code",
   "execution_count": 105,
   "metadata": {},
   "outputs": [
    {
     "name": "stdout",
     "output_type": "stream",
     "text": [
      "cuboid volume 1561.875\n",
      "cuboid surface area 1214.15\n"
     ]
    }
   ],
   "source": [
    "\n",
    "h = 3.57\n",
    "w = 12.5\n",
    "l = 35\n",
    "\n",
    "lw = l * w\n",
    "lh = l * h\n",
    "hw = h * w\n",
    "\n",
    "print (\"cuboid volume\", h * w * l)\n",
    "\n",
    "print (\"cuboid surface area\", 2 * (lw + lh + hw))\n",
    "\n"
   ]
  },
  {
   "cell_type": "code",
   "execution_count": 104,
   "metadata": {},
   "outputs": [
    {
     "name": "stdout",
     "output_type": "stream",
     "text": [
      "cone volume 94.2\n",
      "cone surface_area 126.60768731393739\n",
      "the volume of cubiod is 1561.875\n",
      "the volume of cubiod is 94.2\n"
     ]
    }
   ],
   "source": [
    "import math\n",
    "\n",
    "h = 10 \n",
    "r = 3 \n",
    "pi = 3.14\n",
    "\n",
    "print(\"cone volume\", pi * r ** 2 * h / 3 )\n",
    "\n",
    "print(\"cone surface_area\", pi * r * (r + math.sqrt(h ** 2 + r ** 2)))\n",
    "\n",
    "\n",
    "# x is cubiod vol, y is cube vol. \n",
    "x = 1561.875\n",
    "y = 94.2\n",
    "\n",
    "print(\"the volume of cubiod is\", x)\n",
    "print(\"the volume of cubiod is\", y)"
   ]
  },
  {
   "cell_type": "code",
   "execution_count": 100,
   "metadata": {},
   "outputs": [
    {
     "name": "stdout",
     "output_type": "stream",
     "text": [
      "1kg of sugar 2.18\n",
      "20 washing sponges 0.58 3L of juice 3.5721 2 packs of tomatoes 1.74\n",
      "shopping list for 5 people tomatoes 4.35 washing sponge 0.58 juice 7.56 foil 5.16 sugar 2.18\n",
      "total for 5 people 19.83\n",
      "total inc VAT 23.795999999999996\n",
      "total inc VAT rounded 24\n"
     ]
    }
   ],
   "source": [
    "#shopping list task\n",
    "\n",
    "tom = 0.87 #pack of 6 \n",
    "sug = 1.09 #500g \n",
    "ws = 0.29 #pack of 10\n",
    "j = 1.89 #1.5l bottle\n",
    "f = 1.29 #30m of roll\n",
    "\n",
    "print (\"1kg of sugar\", sug * 2)\n",
    "\n",
    "print (\"20 washing sponges\", ws * 2, \"3L of juice\", j * 1.89, \"2 packs of tomatoes\", tom * 2)\n",
    "\n",
    "#group shopping task\n",
    "print (\"shopping list for 5 people\", \"tomatoes\", tom * 5, \"washing sponge\", ws * 2, \"juice\", j * 4, \"foil\", f * 4, \"sugar\", sug * 2)\n",
    "\n",
    "print ('total for 5 people', 4.35 + 0.58 + 7.56 + 5.16 + 2.18)\n",
    "\n",
    "print ('total inc VAT', 19.83 * 1.2)\n",
    "\n",
    "num = 23.795999999999996\n",
    "\n",
    "print ('total inc VAT rounded', round(num))"
   ]
  },
  {
   "cell_type": "code",
   "execution_count": null,
   "metadata": {},
   "outputs": [],
   "source": []
  }
 ],
 "metadata": {
  "kernelspec": {
   "display_name": "hangman",
   "language": "python",
   "name": "python3"
  },
  "language_info": {
   "codemirror_mode": {
    "name": "ipython",
    "version": 3
   },
   "file_extension": ".py",
   "mimetype": "text/x-python",
   "name": "python",
   "nbconvert_exporter": "python",
   "pygments_lexer": "ipython3",
   "version": "3.11.0"
  },
  "orig_nbformat": 4,
  "vscode": {
   "interpreter": {
    "hash": "48ad961e1674672741948e0abdf56da805e855ff47f33c79d00f0129f333e8e2"
   }
  }
 },
 "nbformat": 4,
 "nbformat_minor": 2
}
