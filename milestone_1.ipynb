{
  "cells": [
    {
      "cell_type": "markdown",
      "metadata": {
        "id": "i_xLFYD8a_h3"
      },
      "source": [
        "# Movie Recommendation - Milestone 1\n",
        "\n",
        "### Instructions:\n",
        "\n",
        "> To complete this project, you need to follow the instructions you see on the AiCore portal. \n",
        ">\n",
        ">  This notebook allows you to write your code and run it, and once you have your solution ready, you can submit it using the form at each step.\n",
        ">\n",
        ">  For example, for the first task, you need to check how many movies are in the list of movies. You can do this by writing your code in the cell that says `Task 1` and then running the cell. You can run the cell by clicking the play button on the left of the cell, or by pressing `Shift + Enter`.\n",
        ">\n",
        ">  Once you have a solution, the next cell will contain a form that you can use to submit your solution. You can submit your solution by clicking on the play button on the left of the cell, and then entering your solution in the form that appears. You can submit your solution as many times as you want, and the last submission will be considered as your final solution."
      ]
    },
    {
      "cell_type": "code",
      "source": [],
      "metadata": {
        "id": "Ur8p52Y21e0z"
      },
      "execution_count": null,
      "outputs": []
    },
    {
      "cell_type": "code",
      "execution_count": null,
      "metadata": {
        "colab": {
          "base_uri": "https://localhost:8080/"
        },
        "id": "RLn-_E7Ba3Q4",
        "outputId": "ffd8ab8a-cb3c-4a5d-d625-231a729b1b9a"
      },
      "outputs": [
        {
          "name": "stdout",
          "output_type": "stream",
          "text": [
            "Requirement already satisfied: movie-rec-marking-aicore in /home/ivanyingx/miniconda3/lib/python3.9/site-packages (0.0.5)\n",
            "Collecting movie-rec-marking-aicore\n",
            "  Downloading movie-rec-marking-aicore-0.1.1.tar.gz (5.1 kB)\n",
            "Requirement already satisfied: urllib3 in /home/ivanyingx/miniconda3/lib/python3.9/site-packages (from movie-rec-marking-aicore) (1.26.6)\n",
            "Requirement already satisfied: timeout-decorator in /home/ivanyingx/miniconda3/lib/python3.9/site-packages (from movie-rec-marking-aicore) (0.5.0)\n",
            "Building wheels for collected packages: movie-rec-marking-aicore\n",
            "  Building wheel for movie-rec-marking-aicore (setup.py) ... \u001b[?25ldone\n",
            "\u001b[?25h  Created wheel for movie-rec-marking-aicore: filename=movie_rec_marking_aicore-0.1.1-py3-none-any.whl size=8099 sha256=2979ae9aafa112d094abebbb9e797bb22e667edf16d0bb1c10b9a1783ef060e5\n",
            "  Stored in directory: /home/ivanyingx/.cache/pip/wheels/10/a6/57/1590ed946c8eeb19af7273aeadc8b96843dce4f25f95cefc40\n",
            "Successfully built movie-rec-marking-aicore\n",
            "Installing collected packages: movie-rec-marking-aicore\n",
            "  Attempting uninstall: movie-rec-marking-aicore\n",
            "    Found existing installation: movie-rec-marking-aicore 0.0.5\n",
            "    Uninstalling movie-rec-marking-aicore-0.0.5:\n",
            "      Successfully uninstalled movie-rec-marking-aicore-0.0.5\n",
            "Successfully installed movie-rec-marking-aicore-0.1.1\n",
            "--2022-12-07 00:40:44--  https://aicore-files.s3.amazonaws.com/Movie-Recommendation/movies-head.json\n",
            "Resolving aicore-files.s3.amazonaws.com (aicore-files.s3.amazonaws.com)... 52.217.99.116, 52.216.95.131, 52.216.179.19, ...\n",
            "Connecting to aicore-files.s3.amazonaws.com (aicore-files.s3.amazonaws.com)|52.217.99.116|:443... connected.\n",
            "HTTP request sent, awaiting response... 200 OK\n",
            "Length: 3186 (3,1K) [application/json]\n",
            "Saving to: ‘movies-head.json’\n",
            "\n",
            "movies-head.json    100%[===================>]   3,11K  --.-KB/s    in 0s      \n",
            "\n",
            "2022-12-07 00:40:45 (196 MB/s) - ‘movies-head.json’ saved [3186/3186]\n",
            "\n"
          ]
        }
      ],
      "source": [
        "#@title # Run this cell before you start coding { display-mode: \"form\" }\n",
        "!pip install movie-rec-marking-aicore --upgrade\n",
        "!wget https://aicore-files.s3.amazonaws.com/Movie-Recommendation/movies-head.json\n",
        "import json\n",
        "from movie_rec_marking import test_milestone_1\n",
        "\n",
        "# Load the movies\n",
        "with open('movies-head.json', 'r') as f:\n",
        "    movies = json.load(f)"
      ]
    },
    {
      "cell_type": "code",
      "source": [
        "first_movies = movies[0]\n",
        "\n",
        "print(first_movies)\n",
        "\n",
        "print(type(first_movie))"
      ],
      "metadata": {
        "colab": {
          "base_uri": "https://localhost:8080/"
        },
        "id": "wlMhyCPv1gmh",
        "outputId": "16807f08-16d1-4c63-e78b-fdf9dc3d4462"
      },
      "execution_count": 37,
      "outputs": [
        {
          "output_type": "stream",
          "name": "stdout",
          "text": [
            "{'title': 'The Shawshank Redemption', 'description': 'Two imprisoned men bond over a number of years, finding solace and eventual redemption through acts of common decency.', 'genre': 'Drama', 'image_url': 'https://m.media-amazon.com/images/M/MV5BMDFkYTc0MGEtZmNhMC00ZDIzLWFmNTEtODM1ZmRlYWMwMWFmXkEyXkFqcGdeQXVyMTMxODk2OTU@._V1_UY67_CR0,0,45,67_AL_.jpg', 'link': 'https://imdb.com/title/tt0111161/?pf_rd_m=A2FGELUUNOQJNL&pf_rd_p=1a264172-ae11-42e4-8ef7-7fed1973bb8f&pf_rd_r=VZEYAR8ZVPNKZ9V7MV87&pf_rd_s=center-1&pf_rd_t=15506&pf_rd_i=top&ref_=chttp_tt_1'}\n",
            "<class 'str'>\n"
          ]
        }
      ]
    },
    {
      "cell_type": "markdown",
      "metadata": {
        "id": "MYQw48Lqa3Q4"
      },
      "source": [
        "# Task 1\n",
        "\n",
        "### Count the data"
      ]
    },
    {
      "cell_type": "code",
      "execution_count": null,
      "metadata": {
        "id": "1UpT9BAym0iW"
      },
      "outputs": [],
      "source": [
        "## You can use this cell for any computation you want"
      ]
    },
    {
      "cell_type": "code",
      "execution_count": 34,
      "metadata": {
        "colab": {
          "base_uri": "https://localhost:8080/"
        },
        "id": "aDmHRI9ca3Q4",
        "outputId": "38e21028-4b92-42a6-ba20-4262dbe2ca66"
      },
      "outputs": [
        {
          "output_type": "stream",
          "name": "stdout",
          "text": [
            "Great! The length of the movie list is correct - 5\n",
            "You can continue to the next task\n"
          ]
        }
      ],
      "source": [
        "#@title Enter your solution here { display-mode: \"form\", run: \"auto\" }\n",
        "number_movies = 5 #@param {type:\"number\"}\n",
        "task_1 = test_milestone_1.check_length(number_movies)\n",
        "    "
      ]
    },
    {
      "cell_type": "markdown",
      "metadata": {
        "id": "6XSTgjY41diq"
      },
      "source": [
        "# Task 2\n",
        "\n",
        "### Select the first movie"
      ]
    },
    {
      "cell_type": "code",
      "execution_count": null,
      "metadata": {
        "id": "DyeApWNm1diq"
      },
      "outputs": [],
      "source": [
        "## You can use this cell for any computation you want"
      ]
    },
    {
      "cell_type": "code",
      "execution_count": 35,
      "metadata": {
        "colab": {
          "base_uri": "https://localhost:8080/"
        },
        "id": "MAHd41Vc1diq",
        "outputId": "6e411d13-7935-4be0-b72a-5863f81233b5"
      },
      "outputs": [
        {
          "output_type": "stream",
          "name": "stdout",
          "text": [
            "Great! The first movie in the list is correct - The Shawshank Redemption\n",
            "You can continue to the next task\n"
          ]
        }
      ],
      "source": [
        "#@title Enter your solution here { display-mode: \"form\", run: \"auto\" }\n",
        "\n",
        "first_movie = \"The Shawshank Redemption\" #@param [\"The Shawshank Redemption\", \"The Godfather\", \"The Dark Knight\", \"The Iron Giant\"] {allow-input: true}\n",
        "data_type = \"dict\" #@param [\"string\", \"int\", \"float\", \"list\", \"dict\"] {allow-input: true}\n",
        "task_2 = test_milestone_1.check_first_movie(first_movie, data_type, task_1)"
      ]
    },
    {
      "cell_type": "markdown",
      "metadata": {
        "id": "mRv_kJsp1diq"
      },
      "source": [
        "# Task 3\n",
        "\n",
        "### Explore that Movie"
      ]
    },
    {
      "cell_type": "code",
      "execution_count": null,
      "metadata": {
        "id": "mBYHp1901diq"
      },
      "outputs": [],
      "source": [
        "## You can use this cell for any computation you want"
      ]
    },
    {
      "cell_type": "code",
      "execution_count": 36,
      "metadata": {
        "colab": {
          "base_uri": "https://localhost:8080/"
        },
        "id": "h-G-lFT91dir",
        "outputId": "9b103665-17a9-4b56-c7ed-5406d3daa2fd"
      },
      "outputs": [
        {
          "output_type": "stream",
          "name": "stdout",
          "text": [
            "Great! The last 10 characters in the url are correct - chtt_tt_1\n",
            "Great! You have completed the first milestone of the project\n"
          ]
        }
      ],
      "source": [
        "#@title What are the last 10 characters of the link? { display-mode: \"form\", run: \"auto\" }\n",
        "\n",
        "first_movie = \"chttp_tt_1\" #@param [\"chttp_tt_1\", \"chttp_tt_2\", \"https://im\", \"ttp_tt_250\"] {allow-input: true}\n",
        "task_3 = test_milestone_1.check_last_characters(first_movie, task_2)"
      ]
    }
  ],
  "metadata": {
    "colab": {
      "provenance": []
    },
    "kernelspec": {
      "display_name": "Python 3.9.5 ('base')",
      "language": "python",
      "name": "python3"
    },
    "language_info": {
      "codemirror_mode": {
        "name": "ipython",
        "version": 3
      },
      "file_extension": ".py",
      "mimetype": "text/x-python",
      "name": "python",
      "nbconvert_exporter": "python",
      "pygments_lexer": "ipython3",
      "version": "3.9.5"
    },
    "orig_nbformat": 4,
    "vscode": {
      "interpreter": {
        "hash": "ce99af5845ff7f417c6fe57e3883abe41597db90e3f493c4f9da5159bbc46102"
      }
    }
  },
  "nbformat": 4,
  "nbformat_minor": 0
}